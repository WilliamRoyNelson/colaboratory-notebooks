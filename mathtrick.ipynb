{
  "nbformat": 4,
  "nbformat_minor": 0,
  "metadata": {
    "colab": {
      "name": "mathtrick.ipynb",
      "provenance": [],
      "authorship_tag": "ABX9TyMVOli+C9sk0+xuPnfbkkN6",
      "include_colab_link": true
    },
    "kernelspec": {
      "name": "python3",
      "display_name": "Python 3"
    },
    "language_info": {
      "name": "python"
    }
  },
  "cells": [
    {
      "cell_type": "markdown",
      "metadata": {
        "id": "view-in-github",
        "colab_type": "text"
      },
      "source": [
        "<a href=\"https://colab.research.google.com/github/WilliamRoyNelson/colaboratory-notebooks/blob/main/mathtrick.ipynb\" target=\"_parent\"><img src=\"https://colab.research.google.com/assets/colab-badge.svg\" alt=\"Open In Colab\"/></a>"
      ]
    },
    {
      "cell_type": "code",
      "metadata": {
        "id": "bXAl0HT6DkS4"
      },
      "source": [
        "def digital_sum(x):\n",
        "    if x < 10:\n",
        "        return x\n",
        "    return x % 10 + digital_sum(x // 10)  \n",
        "    # \"%\" means modulo, which takes the remainder. \n",
        "    # \"//\" is division, discarding the remainder.\n",
        "\n",
        "def power(base, exponent):\n",
        "    return base ** exponent"
      ],
      "execution_count": 1,
      "outputs": []
    },
    {
      "cell_type": "code",
      "metadata": {
        "colab": {
          "base_uri": "https://localhost:8080/"
        },
        "id": "SndfaRawEGI8",
        "outputId": "0bb4e5c7-7155-4196-83bd-25019a4e8810"
      },
      "source": [
        "max_exponent = 20\n",
        "max_base = 1000\n",
        "for exponent in range(1, max_exponent + 1):\n",
        "    # the two values are the start and stop number, but normally the stop isn't\n",
        "    # included, so I add 1.\n",
        "    for base in range(1, max_base + 1):\n",
        "        if digital_sum(power(base, exponent)) - exponent == base:\n",
        "            print(f\"{base} ^ {exponent} = {power(base,exponent)}\")"
      ],
      "execution_count": 6,
      "outputs": [
        {
          "output_type": "stream",
          "text": [
            "2 ^ 2 = 4\n",
            "5 ^ 2 = 25\n",
            "8 ^ 2 = 64\n",
            "14 ^ 2 = 196\n",
            "17 ^ 2 = 289\n",
            "5 ^ 3 = 125\n",
            "6 ^ 3 = 216\n",
            "7 ^ 3 = 343\n",
            "14 ^ 3 = 2744\n",
            "15 ^ 3 = 3375\n",
            "16 ^ 3 = 4096\n",
            "39 ^ 6 = 3518743761\n",
            "62 ^ 9 = 13537086546263552\n",
            "63 ^ 9 = 15633814156853823\n",
            "78 ^ 12 = 50714860157241037295616\n",
            "87 ^ 12 = 188031682201497672618081\n",
            "114 ^ 12 = 4817904819828488880132096\n",
            "124 ^ 12 = 13214788658781797667045376\n",
            "129 ^ 15 = 45587487211290846582931833112449\n",
            "137 ^ 15 = 112410921330388974282595778471993\n",
            "153 ^ 18 = 2110793531984003898618755091514405903089\n",
            "154 ^ 18 = 2373411132289445384862704813118578753536\n",
            "179 ^ 20 = 1140408956767181228576535097649472521057672401\n",
            "182 ^ 20 = 1590112163465011569715575123373973989806309376\n",
            "218 ^ 20 = 58766506252338902465929444319996444416987365376\n"
          ],
          "name": "stdout"
        }
      ]
    },
    {
      "cell_type": "code",
      "metadata": {
        "id": "OzNEys_sFTpl"
      },
      "source": [
        ""
      ],
      "execution_count": null,
      "outputs": []
    }
  ]
}