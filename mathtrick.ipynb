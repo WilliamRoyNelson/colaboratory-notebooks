{
  "nbformat": 4,
  "nbformat_minor": 0,
  "metadata": {
    "colab": {
      "name": "mathtrick.ipynb",
      "provenance": [],
      "collapsed_sections": [],
      "authorship_tag": "ABX9TyNhx7/OES7GVBO8we/58DA5",
      "include_colab_link": true
    },
    "kernelspec": {
      "name": "python3",
      "display_name": "Python 3"
    },
    "language_info": {
      "name": "python"
    }
  },
  "cells": [
    {
      "cell_type": "markdown",
      "metadata": {
        "id": "view-in-github",
        "colab_type": "text"
      },
      "source": [
        "<a href=\"https://colab.research.google.com/github/WilliamRoyNelson/colaboratory-notebooks/blob/main/mathtrick.ipynb\" target=\"_parent\"><img src=\"https://colab.research.google.com/assets/colab-badge.svg\" alt=\"Open In Colab\"/></a>"
      ]
    },
    {
      "cell_type": "code",
      "metadata": {
        "id": "bXAl0HT6DkS4"
      },
      "source": [
        "def digital_sum(x):\n",
        "    if x < 10:\n",
        "        return x\n",
        "    return x % 10 + digital_sum(x // 10)  \n",
        "    # \"%\" means modulo, which takes the remainder. \n",
        "    # \"//\" is division, discarding the remainder.\n",
        "\n",
        "def power(base, exponent):\n",
        "    return base ** exponent"
      ],
      "execution_count": 1,
      "outputs": []
    },
    {
      "cell_type": "code",
      "metadata": {
        "colab": {
          "base_uri": "https://localhost:8080/"
        },
        "id": "SndfaRawEGI8",
        "outputId": "d4e2ae42-53b6-4e91-8b2d-6f8633620302"
      },
      "source": [
        "max_exponent = 20\n",
        "max_base = 1000\n",
        "for exponent in range(1, max_exponent + 1):\n",
        "    # the two values are the start and stop number, but normally the stop isn't\n",
        "    # included, so I add 1.\n",
        "    for base in range(1, max_base + 1):\n",
        "        if digital_sum(power(base, exponent)) - exponent == base:\n",
        "            print(f\"{base} ^ {exponent} = {power(base,exponent)}\")\n",
        "            print(f\"Add the digits in {power(base,exponent)} to \" +\n",
        "                  f\"get {digital_sum(power(base,exponent))} and then subtract {exponent}\")\n",
        "            print()"
      ],
      "execution_count": 2,
      "outputs": [
        {
          "output_type": "stream",
          "text": [
            "2 ^ 2 = 4\n",
            "Add the digits in 4 to get 4 and then subtract 2\n",
            "\n",
            "5 ^ 2 = 25\n",
            "Add the digits in 25 to get 7 and then subtract 2\n",
            "\n",
            "8 ^ 2 = 64\n",
            "Add the digits in 64 to get 10 and then subtract 2\n",
            "\n",
            "14 ^ 2 = 196\n",
            "Add the digits in 196 to get 16 and then subtract 2\n",
            "\n",
            "17 ^ 2 = 289\n",
            "Add the digits in 289 to get 19 and then subtract 2\n",
            "\n",
            "5 ^ 3 = 125\n",
            "Add the digits in 125 to get 8 and then subtract 3\n",
            "\n",
            "6 ^ 3 = 216\n",
            "Add the digits in 216 to get 9 and then subtract 3\n",
            "\n",
            "7 ^ 3 = 343\n",
            "Add the digits in 343 to get 10 and then subtract 3\n",
            "\n",
            "14 ^ 3 = 2744\n",
            "Add the digits in 2744 to get 17 and then subtract 3\n",
            "\n",
            "15 ^ 3 = 3375\n",
            "Add the digits in 3375 to get 18 and then subtract 3\n",
            "\n",
            "16 ^ 3 = 4096\n",
            "Add the digits in 4096 to get 19 and then subtract 3\n",
            "\n",
            "39 ^ 6 = 3518743761\n",
            "Add the digits in 3518743761 to get 45 and then subtract 6\n",
            "\n",
            "62 ^ 9 = 13537086546263552\n",
            "Add the digits in 13537086546263552 to get 71 and then subtract 9\n",
            "\n",
            "63 ^ 9 = 15633814156853823\n",
            "Add the digits in 15633814156853823 to get 72 and then subtract 9\n",
            "\n",
            "78 ^ 12 = 50714860157241037295616\n",
            "Add the digits in 50714860157241037295616 to get 90 and then subtract 12\n",
            "\n",
            "87 ^ 12 = 188031682201497672618081\n",
            "Add the digits in 188031682201497672618081 to get 99 and then subtract 12\n",
            "\n",
            "114 ^ 12 = 4817904819828488880132096\n",
            "Add the digits in 4817904819828488880132096 to get 126 and then subtract 12\n",
            "\n",
            "124 ^ 12 = 13214788658781797667045376\n",
            "Add the digits in 13214788658781797667045376 to get 136 and then subtract 12\n",
            "\n",
            "129 ^ 15 = 45587487211290846582931833112449\n",
            "Add the digits in 45587487211290846582931833112449 to get 144 and then subtract 15\n",
            "\n",
            "137 ^ 15 = 112410921330388974282595778471993\n",
            "Add the digits in 112410921330388974282595778471993 to get 152 and then subtract 15\n",
            "\n",
            "153 ^ 18 = 2110793531984003898618755091514405903089\n",
            "Add the digits in 2110793531984003898618755091514405903089 to get 171 and then subtract 18\n",
            "\n",
            "154 ^ 18 = 2373411132289445384862704813118578753536\n",
            "Add the digits in 2373411132289445384862704813118578753536 to get 172 and then subtract 18\n",
            "\n",
            "179 ^ 20 = 1140408956767181228576535097649472521057672401\n",
            "Add the digits in 1140408956767181228576535097649472521057672401 to get 199 and then subtract 20\n",
            "\n",
            "182 ^ 20 = 1590112163465011569715575123373973989806309376\n",
            "Add the digits in 1590112163465011569715575123373973989806309376 to get 202 and then subtract 20\n",
            "\n",
            "218 ^ 20 = 58766506252338902465929444319996444416987365376\n",
            "Add the digits in 58766506252338902465929444319996444416987365376 to get 238 and then subtract 20\n",
            "\n"
          ],
          "name": "stdout"
        }
      ]
    },
    {
      "cell_type": "code",
      "metadata": {
        "id": "gyk4df6jIb_b"
      },
      "source": [
        ""
      ],
      "execution_count": 2,
      "outputs": []
    }
  ]
}